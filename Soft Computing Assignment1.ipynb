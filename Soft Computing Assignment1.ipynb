{
 "cells": [
  {
   "cell_type": "markdown",
   "metadata": {},
   "source": [
    "# ASSIGNMENT - 01 SOFT COMPUTING"
   ]
  },
  {
   "cell_type": "code",
   "execution_count": null,
   "metadata": {},
   "outputs": [],
   "source": [
    "    Submitted By: Apoorva Sharma\n",
    "        Roll No : 202403\n",
    "          Batch : ME CSE Regular(2020-22)\n",
    "        Subject : Soft Computing\n",
    "   Submitted To : Er. Shano Solanki(Assistant Professor, Computer Science & Engineering)\n"
   ]
  },
  {
   "cell_type": "raw",
   "metadata": {},
   "source": [
    "IMPLEMENTATION OF CRISP SET IN PYTHON."
   ]
  },
  {
   "cell_type": "code",
   "execution_count": 13,
   "metadata": {},
   "outputs": [],
   "source": [
    "#Lets assume A and B are two Crisp sets\n",
    "A= (10,100,1000)\n",
    "B= (50,500,5000)\n",
    "C =[]\n",
    "R =[]\n",
    "\n",
    "#C is Cartiion product of A and B i.e C= AxB\n",
    "#R is crisp relation list\n",
    "#where R = A>=B\n",
    "for i in A:\n",
    "    for j in B:\n",
    "        C.append([i,j])"
   ]
  },
  {
   "cell_type": "code",
   "execution_count": 14,
   "metadata": {},
   "outputs": [
    {
     "data": {
      "text/plain": [
       "[[10, 50],\n",
       " [10, 500],\n",
       " [10, 5000],\n",
       " [100, 50],\n",
       " [100, 500],\n",
       " [100, 5000],\n",
       " [1000, 50],\n",
       " [1000, 500],\n",
       " [1000, 5000]]"
      ]
     },
     "execution_count": 14,
     "metadata": {},
     "output_type": "execute_result"
    }
   ],
   "source": [
    "C"
   ]
  },
  {
   "cell_type": "code",
   "execution_count": 15,
   "metadata": {},
   "outputs": [
    {
     "name": "stdout",
     "output_type": "stream",
     "text": [
      "[[100, 50], [1000, 50], [1000, 500]]\n"
     ]
    }
   ],
   "source": [
    "for i,j in C:\n",
    "    if i>=j:\n",
    "        R.append([i,j])\n",
    "print(R)"
   ]
  },
  {
   "cell_type": "code",
   "execution_count": 16,
   "metadata": {},
   "outputs": [],
   "source": [
    "#rel_matrix is the relation matrix \n",
    "\n",
    "rel_mat = []\n",
    "for i in A:\n",
    "    a= []\n",
    "    for j in B:\n",
    "        if i>=j:\n",
    "            a.append(1)\n",
    "        else:\n",
    "            a.append(0)\n",
    "    rel_mat.append(a)"
   ]
  },
  {
   "cell_type": "code",
   "execution_count": 17,
   "metadata": {},
   "outputs": [
    {
     "name": "stdout",
     "output_type": "stream",
     "text": [
      "0 0 0 \n",
      "1 0 0 \n",
      "1 1 0 \n"
     ]
    }
   ],
   "source": [
    "for i in range(row):\n",
    "    for j in range(col):\n",
    "        print(rel_mat[i][j], end = \" \")\n",
    "    print()"
   ]
  },
  {
   "cell_type": "markdown",
   "metadata": {},
   "source": [
    "# Crisp Relation Operations"
   ]
  },
  {
   "cell_type": "code",
   "execution_count": 18,
   "metadata": {},
   "outputs": [],
   "source": [
    "# rel_mat_R1 and rel_mat_R2 are the two Crisp Relation Matrices\n",
    "\n",
    "rel_mat_R1 = [[1,2,3],[4,5,6],[7,8,9]]\n",
    "rel_mat_R2 = [[10,11,12],[13,14,15],[16,17,18]]\n",
    "\n",
    "row =col=len(rel_mat_R1)"
   ]
  },
  {
   "cell_type": "code",
   "execution_count": 19,
   "metadata": {},
   "outputs": [
    {
     "name": "stdout",
     "output_type": "stream",
     "text": [
      "Relation matrix of Relation R1:\n",
      "1 2 3 \n",
      "4 5 6 \n",
      "7 8 9 \n"
     ]
    }
   ],
   "source": [
    "print(\"Relation matrix of Relation R1:\")\n",
    "for i in range(row):\n",
    "    for j in range(col):\n",
    "        print(rel_mat_R1[i][j], end = \" \")\n",
    "    print()"
   ]
  },
  {
   "cell_type": "code",
   "execution_count": 20,
   "metadata": {},
   "outputs": [
    {
     "name": "stdout",
     "output_type": "stream",
     "text": [
      "Relation matrix of Relation R2:\n",
      "10 11 12 \n",
      "13 14 15 \n",
      "16 17 18 \n"
     ]
    }
   ],
   "source": [
    "print(\"Relation matrix of Relation R2:\")\n",
    "for i in range(row):\n",
    "    for j in range(col):\n",
    "        print(rel_mat_R2[i][j], end = \" \")\n",
    "    print()"
   ]
  },
  {
   "cell_type": "code",
   "execution_count": 21,
   "metadata": {},
   "outputs": [],
   "source": [
    "#Crisp Operation: 1.Union\n",
    "union =[]\n",
    "for i in range(row):\n",
    "    a=[]\n",
    "    for j in range(col):\n",
    "        a.append(max(rel_mat_R1[i][j],rel_mat_R2[i][j]))\n",
    "    union.append(a)"
   ]
  },
  {
   "cell_type": "code",
   "execution_count": 22,
   "metadata": {},
   "outputs": [
    {
     "name": "stdout",
     "output_type": "stream",
     "text": [
      "Union of relation matrix R1 and R2:\n",
      "10 11 12 \n",
      "13 14 15 \n",
      "16 17 18 \n"
     ]
    }
   ],
   "source": [
    "print(\"Union of relation matrix R1 and R2:\")\n",
    "for i in range(row):\n",
    "    for j in range(col):\n",
    "        print(union[i][j], end = \" \")\n",
    "    print()"
   ]
  },
  {
   "cell_type": "code",
   "execution_count": 39,
   "metadata": {},
   "outputs": [
    {
     "name": "stdout",
     "output_type": "stream",
     "text": [
      "Intersection of relation matrix R1 and R2:\n",
      "1  2  3  \n",
      "4  5  6  \n",
      "7  8  9  \n"
     ]
    }
   ],
   "source": [
    "print(\"Intersection of relation matrix R1 and R2:\")\n",
    "for i in range(row):\n",
    "    for j in range(col):\n",
    "        print(intersection[i][j], end = \"  \")\n",
    "    print()"
   ]
  },
  {
   "cell_type": "code",
   "execution_count": 25,
   "metadata": {},
   "outputs": [],
   "source": [
    "#Crisp Operation: 3.Complement\n",
    "complement =[]\n",
    "for i in range(row):\n",
    "    a=[]\n",
    "    for j in range(col):\n",
    "        if rel_mat_R1[i][j]==1:\n",
    "            a.append(0)\n",
    "        else:\n",
    "            a.append(1)\n",
    "    complement.append(a)\n"
   ]
  },
  {
   "cell_type": "code",
   "execution_count": 26,
   "metadata": {
    "scrolled": true
   },
   "outputs": [
    {
     "name": "stdout",
     "output_type": "stream",
     "text": [
      "Complement of relation matrix R1: \n",
      "0 1 1 \n",
      "1 1 1 \n",
      "1 1 1 \n"
     ]
    }
   ],
   "source": [
    "print(\"Complement of relation matrix R1: \")\n",
    "for i in range(row):\n",
    "    for j in range(col):\n",
    "        print(complement[i][j], end = \" \")\n",
    "    print()"
   ]
  },
  {
   "cell_type": "code",
   "execution_count": null,
   "metadata": {},
   "outputs": [],
   "source": [
    "IMPLEMENTATION OF FUZZY SET IN PYTHON."
   ]
  },
  {
   "cell_type": "markdown",
   "metadata": {},
   "source": [
    "# Fuzzy Relation Operations"
   ]
  },
  {
   "cell_type": "code",
   "execution_count": 40,
   "metadata": {},
   "outputs": [],
   "source": [
    "# rel_mat_R1 and rel_mat_R2 are the two Fuzzy Relation Matrices\n",
    "\n",
    "rel_mat_R1 = [[0.6,0.2,0.3],[0.2,0.2,0.2],[0.3,0.4,0.3]]\n",
    "rel_mat_R2 = [[0.5,0.4,0.2],[0.2,0.5,0.4],[0.2,0.6,0.4]]\n",
    "\n",
    "row =col=len(rel_mat_R1)"
   ]
  },
  {
   "cell_type": "code",
   "execution_count": 41,
   "metadata": {},
   "outputs": [
    {
     "name": "stdout",
     "output_type": "stream",
     "text": [
      "Relation matrix of Relation R1:\n",
      "0.6  0.2  0.3  \n",
      "0.2  0.2  0.2  \n",
      "0.3  0.4  0.3  \n"
     ]
    }
   ],
   "source": [
    "print(\"Relation matrix of Relation R1:\")\n",
    "for i in range(row):\n",
    "    for j in range(col):\n",
    "        print(rel_mat_R1[i][j], end = \"  \")\n",
    "    print()"
   ]
  },
  {
   "cell_type": "code",
   "execution_count": 42,
   "metadata": {},
   "outputs": [
    {
     "name": "stdout",
     "output_type": "stream",
     "text": [
      "Relation matrix of Relation R2:\n",
      "0.5  0.4  0.2  \n",
      "0.2  0.5  0.4  \n",
      "0.2  0.6  0.4  \n"
     ]
    }
   ],
   "source": [
    "print(\"Relation matrix of Relation R2:\")\n",
    "for i in range(row):\n",
    "    for j in range(col):\n",
    "        print(rel_mat_R2[i][j], end = \"  \")\n",
    "    print()"
   ]
  },
  {
   "cell_type": "code",
   "execution_count": 37,
   "metadata": {},
   "outputs": [],
   "source": [
    "#Fuzzy Operation: 1.Union\n",
    "union =[]\n",
    "for i in range(row):\n",
    "    a=[]\n",
    "    for j in range(col):\n",
    "        a.append(max(rel_mat_R1[i][j],rel_mat_R2[i][j]))\n",
    "    union.append(a)"
   ]
  },
  {
   "cell_type": "code",
   "execution_count": 38,
   "metadata": {},
   "outputs": [
    {
     "name": "stdout",
     "output_type": "stream",
     "text": [
      "Union of relation matrix R1 and R2:\n",
      "0.3  0.2  0.3  \n",
      "0.6  0.5  0.6  \n",
      "0.9  0.8  0.9  \n"
     ]
    }
   ],
   "source": [
    "print(\"Union of relation matrix R1 and R2:\")\n",
    "for i in range(row):\n",
    "    for j in range(col):\n",
    "        print(union[i][j], end = \"  \")\n",
    "    print()"
   ]
  },
  {
   "cell_type": "code",
   "execution_count": 43,
   "metadata": {},
   "outputs": [],
   "source": [
    "#Fuzzy Operation: 2.Intersection\n",
    "intersection =[]\n",
    "for i in range(row):\n",
    "    a=[]\n",
    "    for j in range(col):\n",
    "        a.append(min(rel_mat_R1[i][j],rel_mat_R2[i][j]))\n",
    "    intersection.append(a)"
   ]
  },
  {
   "cell_type": "code",
   "execution_count": 44,
   "metadata": {},
   "outputs": [
    {
     "name": "stdout",
     "output_type": "stream",
     "text": [
      "Intersection of relation matrix R1 and R2:\n",
      "0.5  0.2  0.2  \n",
      "0.2  0.2  0.2  \n",
      "0.2  0.4  0.3  \n"
     ]
    }
   ],
   "source": [
    "print(\"Intersection of relation matrix R1 and R2:\")\n",
    "for i in range(row):\n",
    "    for j in range(col):\n",
    "        print(intersection[i][j], end = \"  \")\n",
    "    print()"
   ]
  },
  {
   "cell_type": "code",
   "execution_count": 45,
   "metadata": {},
   "outputs": [],
   "source": [
    "#Fuzzy Operation: 3.Complement\n",
    "complement =[]\n",
    "for i in range(row):\n",
    "    a=[]\n",
    "    for j in range(col):\n",
    "        a.append(1-rel_mat_R1[i][j])\n",
    "    complement.append(a)"
   ]
  },
  {
   "cell_type": "code",
   "execution_count": 46,
   "metadata": {},
   "outputs": [
    {
     "name": "stdout",
     "output_type": "stream",
     "text": [
      "Complement of relation matrix R1: \n",
      "0.4  0.8  0.7  \n",
      "0.8  0.8  0.8  \n",
      "0.7  0.6  0.7  \n"
     ]
    }
   ],
   "source": [
    "print(\"Complement of relation matrix R1: \")\n",
    "for i in range(row):\n",
    "    for j in range(col):\n",
    "        print(complement[i][j], end = \"  \")\n",
    "    print()"
   ]
  },
  {
   "cell_type": "code",
   "execution_count": 47,
   "metadata": {},
   "outputs": [],
   "source": [
    "# A and B are the fuzzy sets\n",
    "# rel_mat is the fuzzy relation matrix of A and B\n",
    "\n",
    "A=(('x1',0.1),('x2',0.2),('x3',0.3))\n",
    "B=(('y1',0.4),('y2',0.5),('y3',0.6))"
   ]
  },
  {
   "cell_type": "code",
   "execution_count": 48,
   "metadata": {},
   "outputs": [
    {
     "name": "stdout",
     "output_type": "stream",
     "text": [
      "[0.1, 0.2, 0.3]\n",
      "[0.4, 0.5, 0.6]\n"
     ]
    }
   ],
   "source": [
    "temp1=[]\n",
    "temp2=[]\n",
    "for i,j in A:\n",
    "    temp1.append(j)\n",
    "    \n",
    "for i,j in B:\n",
    "    temp2.append(j)\n",
    "\n",
    "row = len(temp1)\n",
    "col = len(temp2)\n",
    "print(temp1)\n",
    "print(temp2)"
   ]
  },
  {
   "cell_type": "code",
   "execution_count": 49,
   "metadata": {},
   "outputs": [],
   "source": [
    "rel_mat = []\n",
    "for i in temp1:\n",
    "    a = []\n",
    "    for j in temp2:\n",
    "        a.append(min(i,j))\n",
    "    rel_mat.append(a)"
   ]
  },
  {
   "cell_type": "code",
   "execution_count": 50,
   "metadata": {},
   "outputs": [
    {
     "name": "stdout",
     "output_type": "stream",
     "text": [
      "0.1  0.1  0.1  \n",
      "0.2  0.2  0.2  \n",
      "0.3  0.3  0.3  \n"
     ]
    }
   ],
   "source": [
    "for i in range(row):\n",
    "    for j in range(col):\n",
    "        print(rel_mat[i][j], end=\"  \")\n",
    "    print()"
   ]
  }
 ],
 "metadata": {
  "kernelspec": {
   "display_name": "Python 3",
   "language": "python",
   "name": "python3"
  },
  "language_info": {
   "codemirror_mode": {
    "name": "ipython",
    "version": 3
   },
   "file_extension": ".py",
   "mimetype": "text/x-python",
   "name": "python",
   "nbconvert_exporter": "python",
   "pygments_lexer": "ipython3",
   "version": "3.8.5"
  }
 },
 "nbformat": 4,
 "nbformat_minor": 4
}
